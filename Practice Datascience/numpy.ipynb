{
 "cells": [
  {
   "cell_type": "code",
   "execution_count": 1,
   "id": "a8c601c5",
   "metadata": {},
   "outputs": [],
   "source": [
    "import numpy as np"
   ]
  },
  {
   "cell_type": "code",
   "execution_count": 2,
   "id": "b03880e4",
   "metadata": {},
   "outputs": [],
   "source": [
    "arr = np.array([[1,23,4],[2,45,45]])"
   ]
  },
  {
   "cell_type": "code",
   "execution_count": 3,
   "id": "dd24f6ba",
   "metadata": {},
   "outputs": [
    {
     "data": {
      "text/plain": [
       "(2, 3)"
      ]
     },
     "execution_count": 3,
     "metadata": {},
     "output_type": "execute_result"
    }
   ],
   "source": [
    "arr.shape"
   ]
  },
  {
   "cell_type": "code",
   "execution_count": 4,
   "id": "f2178e0f",
   "metadata": {},
   "outputs": [
    {
     "data": {
      "text/plain": [
       "2"
      ]
     },
     "execution_count": 4,
     "metadata": {},
     "output_type": "execute_result"
    }
   ],
   "source": [
    "arr.ndim"
   ]
  },
  {
   "cell_type": "code",
   "execution_count": 5,
   "id": "8d950930",
   "metadata": {},
   "outputs": [
    {
     "data": {
      "text/plain": [
       "23"
      ]
     },
     "execution_count": 5,
     "metadata": {},
     "output_type": "execute_result"
    }
   ],
   "source": [
    "arr[0].max()"
   ]
  },
  {
   "cell_type": "code",
   "execution_count": 6,
   "id": "71f18bcf",
   "metadata": {},
   "outputs": [
    {
     "data": {
      "text/plain": [
       "dtype('int32')"
      ]
     },
     "execution_count": 6,
     "metadata": {},
     "output_type": "execute_result"
    }
   ],
   "source": [
    "arr.dtype"
   ]
  },
  {
   "cell_type": "code",
   "execution_count": 7,
   "id": "d33bc270",
   "metadata": {},
   "outputs": [],
   "source": [
    "arr2 = np.arange(100)"
   ]
  },
  {
   "cell_type": "code",
   "execution_count": 8,
   "id": "75f47be5",
   "metadata": {},
   "outputs": [
    {
     "data": {
      "text/plain": [
       "array([ 0,  1,  2,  3,  4,  5,  6,  7,  8,  9, 10, 11, 12, 13, 14, 15, 16,\n",
       "       17, 18, 19, 20, 21, 22, 23, 24, 25, 26, 27, 28, 29, 30, 31, 32, 33,\n",
       "       34, 35, 36, 37, 38, 39, 40, 41, 42, 43, 44, 45, 46, 47, 48, 49, 50,\n",
       "       51, 52, 53, 54, 55, 56, 57, 58, 59, 60, 61, 62, 63, 64, 65, 66, 67,\n",
       "       68, 69, 70, 71, 72, 73, 74, 75, 76, 77, 78, 79, 80, 81, 82, 83, 84,\n",
       "       85, 86, 87, 88, 89, 90, 91, 92, 93, 94, 95, 96, 97, 98, 99])"
      ]
     },
     "execution_count": 8,
     "metadata": {},
     "output_type": "execute_result"
    }
   ],
   "source": [
    "arr2"
   ]
  },
  {
   "cell_type": "code",
   "execution_count": 9,
   "id": "61508e00",
   "metadata": {},
   "outputs": [
    {
     "data": {
      "text/plain": [
       "'1.23.4'"
      ]
     },
     "execution_count": 9,
     "metadata": {},
     "output_type": "execute_result"
    }
   ],
   "source": [
    "np.__version__"
   ]
  },
  {
   "cell_type": "markdown",
   "id": "7f7532df",
   "metadata": {},
   "source": [
    "## Slicing"
   ]
  },
  {
   "cell_type": "code",
   "execution_count": 10,
   "id": "4c0a92a4",
   "metadata": {},
   "outputs": [
    {
     "data": {
      "text/plain": [
       "array([[ 1, 23,  4]])"
      ]
     },
     "execution_count": 10,
     "metadata": {},
     "output_type": "execute_result"
    }
   ],
   "source": [
    "arr[0:1]"
   ]
  },
  {
   "cell_type": "markdown",
   "id": "78d03099",
   "metadata": {},
   "source": [
    "## Axis"
   ]
  },
  {
   "cell_type": "code",
   "execution_count": 11,
   "id": "ca448354",
   "metadata": {},
   "outputs": [],
   "source": [
    "arr2 = np.array([[10,23,45],[12,61,23]])"
   ]
  },
  {
   "cell_type": "code",
   "execution_count": 12,
   "id": "4648059e",
   "metadata": {},
   "outputs": [
    {
     "data": {
      "text/plain": [
       "array([78, 96])"
      ]
     },
     "execution_count": 12,
     "metadata": {},
     "output_type": "execute_result"
    }
   ],
   "source": [
    "arr2.sum(axis=1) # Axis 1 sum all the elements according to the row"
   ]
  },
  {
   "cell_type": "code",
   "execution_count": 13,
   "id": "d327ecd1",
   "metadata": {},
   "outputs": [
    {
     "data": {
      "text/plain": [
       "array([22, 84, 68])"
      ]
     },
     "execution_count": 13,
     "metadata": {},
     "output_type": "execute_result"
    }
   ],
   "source": [
    "arr2.sum(axis=0) # Axis 0 sum all the elements according to the column"
   ]
  },
  {
   "cell_type": "code",
   "execution_count": 14,
   "id": "a085b1d5",
   "metadata": {},
   "outputs": [
    {
     "data": {
      "text/plain": [
       "array([[10, 23, 45],\n",
       "       [12, 61, 23]])"
      ]
     },
     "execution_count": 14,
     "metadata": {},
     "output_type": "execute_result"
    }
   ],
   "source": [
    "arr2"
   ]
  },
  {
   "cell_type": "code",
   "execution_count": 15,
   "id": "ed361136",
   "metadata": {},
   "outputs": [
    {
     "data": {
      "text/plain": [
       "array([[10, 12],\n",
       "       [23, 61],\n",
       "       [45, 23]])"
      ]
     },
     "execution_count": 15,
     "metadata": {},
     "output_type": "execute_result"
    }
   ],
   "source": [
    "arr2.transpose()"
   ]
  },
  {
   "cell_type": "code",
   "execution_count": 16,
   "id": "247e97e8",
   "metadata": {},
   "outputs": [
    {
     "data": {
      "text/plain": [
       "array([[  10,  529,  180],\n",
       "       [  24, 2745, 1035]])"
      ]
     },
     "execution_count": 16,
     "metadata": {},
     "output_type": "execute_result"
    }
   ],
   "source": [
    "arr*arr2"
   ]
  },
  {
   "cell_type": "markdown",
   "id": "6e6f5466",
   "metadata": {},
   "source": [
    "## Sorting"
   ]
  },
  {
   "cell_type": "code",
   "execution_count": 17,
   "id": "aba27c44",
   "metadata": {},
   "outputs": [
    {
     "data": {
      "text/plain": [
       "array([[10, 23, 45],\n",
       "       [12, 23, 61]])"
      ]
     },
     "execution_count": 17,
     "metadata": {},
     "output_type": "execute_result"
    }
   ],
   "source": [
    "np.sort(arr2)"
   ]
  },
  {
   "cell_type": "markdown",
   "id": "0e276f81",
   "metadata": {},
   "source": [
    "## NumPy Array Iterating"
   ]
  },
  {
   "cell_type": "code",
   "execution_count": 18,
   "id": "5881cfd8",
   "metadata": {},
   "outputs": [
    {
     "name": "stdout",
     "output_type": "stream",
     "text": [
      "10\n",
      "23\n",
      "45\n",
      "12\n",
      "61\n",
      "23\n"
     ]
    }
   ],
   "source": [
    "for i in np.nditer(arr2): # np.nditer() used to iterate ndimentional array\n",
    "    print(i)"
   ]
  },
  {
   "cell_type": "markdown",
   "id": "97a20cee",
   "metadata": {},
   "source": [
    "## ndenumerate() "
   ]
  },
  {
   "cell_type": "code",
   "execution_count": 19,
   "id": "84ee8c9e",
   "metadata": {},
   "outputs": [
    {
     "name": "stdout",
     "output_type": "stream",
     "text": [
      "((0, 0), 10)\n",
      "((0, 1), 23)\n",
      "((0, 2), 45)\n",
      "((1, 0), 12)\n",
      "((1, 1), 61)\n",
      "((1, 2), 23)\n"
     ]
    }
   ],
   "source": [
    "for i in np.ndenumerate(arr2): # ndenumetrate funtion return every elements with their index number\n",
    "    print(i)"
   ]
  },
  {
   "cell_type": "markdown",
   "id": "488e6e59",
   "metadata": {},
   "source": [
    "## reshape"
   ]
  },
  {
   "cell_type": "code",
   "execution_count": 20,
   "id": "e9f9e231",
   "metadata": {},
   "outputs": [],
   "source": [
    "arr3 = np.array([10,3,34,45,5,6,45,5,45,4,54,5,4,4])"
   ]
  },
  {
   "cell_type": "code",
   "execution_count": 21,
   "id": "e8b85db9",
   "metadata": {},
   "outputs": [
    {
     "data": {
      "text/plain": [
       "(14,)"
      ]
     },
     "execution_count": 21,
     "metadata": {},
     "output_type": "execute_result"
    }
   ],
   "source": [
    "arr3.shape"
   ]
  },
  {
   "cell_type": "code",
   "execution_count": 22,
   "id": "cb467d97",
   "metadata": {},
   "outputs": [],
   "source": [
    "arr3 = arr3.reshape(2,7) # we can customize the dimension of any ndim 1 dim array"
   ]
  },
  {
   "cell_type": "code",
   "execution_count": 23,
   "id": "828625df",
   "metadata": {},
   "outputs": [
    {
     "data": {
      "text/plain": [
       "array([[10,  3, 34, 45,  5,  6, 45],\n",
       "       [ 5, 45,  4, 54,  5,  4,  4]])"
      ]
     },
     "execution_count": 23,
     "metadata": {},
     "output_type": "execute_result"
    }
   ],
   "source": [
    "arr3"
   ]
  },
  {
   "cell_type": "code",
   "execution_count": 24,
   "id": "078bf9c7",
   "metadata": {},
   "outputs": [
    {
     "data": {
      "text/plain": [
       "(2, 7)"
      ]
     },
     "execution_count": 24,
     "metadata": {},
     "output_type": "execute_result"
    }
   ],
   "source": [
    "arr3.shape"
   ]
  },
  {
   "cell_type": "code",
   "execution_count": 25,
   "id": "39d9d137",
   "metadata": {},
   "outputs": [
    {
     "data": {
      "text/plain": [
       "2"
      ]
     },
     "execution_count": 25,
     "metadata": {},
     "output_type": "execute_result"
    }
   ],
   "source": [
    "arr3.ndim"
   ]
  },
  {
   "cell_type": "markdown",
   "id": "d9dadd5d",
   "metadata": {},
   "source": [
    "## Random"
   ]
  },
  {
   "cell_type": "code",
   "execution_count": 1,
   "id": "5a15ff8d",
   "metadata": {},
   "outputs": [],
   "source": [
    "from numpy import random"
   ]
  },
  {
   "cell_type": "code",
   "execution_count": 9,
   "id": "8c857df6",
   "metadata": {},
   "outputs": [
    {
     "data": {
      "text/plain": [
       "70"
      ]
     },
     "execution_count": 9,
     "metadata": {},
     "output_type": "execute_result"
    }
   ],
   "source": [
    "random_number = random.randint(100)\n",
    "random_number"
   ]
  },
  {
   "cell_type": "code",
   "execution_count": 12,
   "id": "3b07a690",
   "metadata": {},
   "outputs": [
    {
     "data": {
      "text/plain": [
       "0.18238860001279433"
      ]
     },
     "execution_count": 12,
     "metadata": {},
     "output_type": "execute_result"
    }
   ],
   "source": [
    "random_number1 = random.rand()\n",
    "random_number1"
   ]
  },
  {
   "cell_type": "code",
   "execution_count": null,
   "id": "debaeea7",
   "metadata": {},
   "outputs": [],
   "source": []
  }
 ],
 "metadata": {
  "kernelspec": {
   "display_name": "Python 3 (ipykernel)",
   "language": "python",
   "name": "python3"
  },
  "language_info": {
   "codemirror_mode": {
    "name": "ipython",
    "version": 3
   },
   "file_extension": ".py",
   "mimetype": "text/x-python",
   "name": "python",
   "nbconvert_exporter": "python",
   "pygments_lexer": "ipython3",
   "version": "3.10.7"
  }
 },
 "nbformat": 4,
 "nbformat_minor": 5
}
